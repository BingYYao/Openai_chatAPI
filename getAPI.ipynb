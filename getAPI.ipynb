{
 "cells": [
  {
   "cell_type": "code",
   "execution_count": 1,
   "outputs": [],
   "source": [
    "import openai\n",
    "import json\n",
    "import os\n",
    "\n",
    "# # 目前需要设置代理才可以访问 api\n",
    "# # print(os.environ[\"HTTP_PROXY\"])\n",
    "# os.environ[\"HTTP_PROXY\"] = \"http://127.0.0.1:57501\"\n",
    "# os.environ[\"HTTPS_PROXY\"] = \"https://127.0.0.1:57501\"\n",
    "\n",
    "\n",
    "def get_api_key():\n",
    "    # 可以自己根据自己实际情况实现\n",
    "    # 以我为例子，我是存在一个 openai_key 文件里，json 格式\n",
    "    '''\n",
    "    {\"api\": \"你的 api keys\"}\n",
    "    '''\n",
    "    openai_key_file = 'envs/configs'\n",
    "    with open(openai_key_file, 'r', encoding='utf-8') as f:\n",
    "        openai_key = json.loads(f.read())\n",
    "    return openai_key['api']\n",
    "\n"
   ],
   "metadata": {
    "collapsed": false,
    "pycharm": {
     "name": "#%%\n"
    }
   }
  },
  {
   "cell_type": "code",
   "execution_count": 4,
   "outputs": [],
   "source": [
    "openai.api_key = get_api_key()\n",
    "\n",
    "q = \"如果你是个道士，当我的生日是2001年1月24日，我的八字是什么并帮我算命。请用道士的语气回答\"\n",
    "rsp = openai.ChatCompletion.create(\n",
    "  model=\"gpt-3.5-turbo\",\n",
    "  messages=[\n",
    "        {\"role\": \"system\", \"content\": \"一个信众\"},\n",
    "        {\"role\": \"user\", \"content\": q}\n",
    "    ]\n",
    ")"
   ],
   "metadata": {
    "collapsed": false,
    "pycharm": {
     "name": "#%%\n"
    }
   }
  },
  {
   "cell_type": "code",
   "execution_count": 4,
   "outputs": [
    {
     "name": "stdout",
     "output_type": "stream",
     "text": [
      "{\n",
      "  \"choices\": [\n",
      "    {\n",
      "      \"finish_reason\": \"stop\",\n",
      "      \"index\": 0,\n",
      "      \"message\": {\n",
      "        \"content\": \"\\u9053\\u53cb\\uff0c\\u4f60\\u7684\\u751f\\u65e5\\u662f2001\\u5e741\\u670824\\u65e5\\uff0c\\u6839\\u636e\\u6392\\u76d8\\u7ed3\\u679c\\uff0c\\u4f60\\u7684\\u751f\\u8fb0\\u516b\\u5b57\\u4e3a\\uff1a\\u5df1\\u9149\\u5e74\\u3001\\u4e19\\u5b50\\u6708\\u3001\\u620a\\u5bc5\\u65e5\\u3001\\u58ec\\u5b50\\u65f6\\u3002\\n\\n\\u6839\\u636e\\u516b\\u5b57\\u63a8\\u7b97\\uff0c\\u4f60\\u6b64\\u751f\\u547d\\u8fd0\\u5448\\u73b0\\u5982\\u4e0b\\uff1a\\n\\n1.\\u547d\\u4e3b\\u4e94\\u884c\\u4e3a\\u571f\\uff0c\\u571f\\u591a\\u91d1\\u5236\\uff0c\\u5efa\\u8bae\\u591a\\u63a5\\u89e6\\u9633\\u6c14\\u4e4b\\u5730\\uff0c\\u540c\\u65f6\\u8981\\u5b66\\u4f1a\\u8c03\\u8282\\u60c5\\u7eea\\uff0c\\u52a0\\u5f3a\\u81ea\\u8eab\\u8eab\\u4f53\\u514d\\u75ab\\u529b\\u3002\\n\\n2.\\u4e24\\u4e2a\\u5b50\\u6c34\\u76f8\\u9047\\uff0c\\u4e3a\\u65e5\\u5143\\u683c\\uff0c\\u547d\\u4e3b\\u5fc3\\u667a\\u806a\\u660e\\uff0c\\u4f46\\u6b64\\u751f\\u5e94\\u8be5\\u591a\\u52a0\\u6ce8\\u610f\\u5fc3\\u810f\\u7684\\u5065\\u5eb7\\uff0c\\u5e73\\u65f6\\u591a\\u5c11\\u8981\\u51fa\\u95e8\\u8d70\\u52a8\\u3002\\n\\n3.\\u547d\\u4e3b\\u5c5e\\u864e\\uff0c\\u864e\\u7684\\u6027\\u683c\\u8f83\\u4e3a\\u72ec\\u7acb\\uff0c\\u4e0d\\u6613\\u53d7\\u5236\\u4e8e\\u4eba\\u3002\\u4f46\\u56e0\\u4e3a\\u7f3a\\u4e4f\\u6728\\u6027\\uff0c\\u6240\\u4ee5\\u8981\\u591a\\u6ce8\\u610f\\u81ea\\u8eab\\u5b66\\u4e60\\u80fd\\u529b\\u548c\\u53e3\\u624d\\u80fd\\u529b\\u7684\\u57f9\\u517b\\u3002\\n\\n4.\\u4ece\\u6d41\\u5e74\\u6d41\\u6708\\u6765\\u770b\\uff0c\\u4eca\\u5e74\\u9002\\u5408\\u8f6c\\u5b66\\u6216\\u8005\\u8003\\u53d6\\u8bc1\\u4e66\\uff0c\\u5728\\u672a\\u6765\\u51e0\\u5e74\\u4e5f\\u5e94\\u8be5\\u6ce8\\u610f\\u4e2a\\u4eba\\u7684\\u5b9e\\u9645\\u884c\\u52a8\\u529b\\u4ee5\\u53ca\\u5728\\u5de5\\u4f5c\\u6216\\u8005\\u5b66\\u4e1a\\u4e2d\\u52e4\\u594b\\u52aa\\u529b\\uff0c\\u4e0d\\u65ad\\u7d2f\\u79ef\\u7ecf\\u9a8c\\u3002\\n\\n\\u547d\\u4e3b\\uff0c\\u4ee5\\u4e0a\\u53ea\\u662f\\u7b80\\u5355\\u7684\\u5206\\u6790\\uff0c\\u5e0c\\u671b\\u80fd\\u5bf9\\u4f60\\u6709\\u6240\\u5e2e\\u52a9\\u3002\",\n",
      "        \"role\": \"assistant\"\n",
      "      }\n",
      "    }\n",
      "  ],\n",
      "  \"created\": 1683356050,\n",
      "  \"id\": \"chatcmpl-7D65y2AfNb5Qo2k82B9Bcl0L6idGg\",\n",
      "  \"model\": \"gpt-3.5-turbo-0301\",\n",
      "  \"object\": \"chat.completion\",\n",
      "  \"usage\": {\n",
      "    \"completion_tokens\": 338,\n",
      "    \"prompt_tokens\": 64,\n",
      "    \"total_tokens\": 402\n",
      "  }\n",
      "}\n"
     ]
    }
   ],
   "source": [
    "print(rsp)"
   ],
   "metadata": {
    "collapsed": false,
    "pycharm": {
     "name": "#%%\n"
    }
   }
  },
  {
   "cell_type": "code",
   "execution_count": 5,
   "outputs": [
    {
     "name": "stdout",
     "output_type": "stream",
     "text": [
      "道友，经过算命之后，您的生辰八字为：辛酉年、丙子月、丁巳日、己亥时。\n",
      "\n",
      "根据您的生辰八字，命中五行水火相克，但是辛酉金之旺相，又有丙丁火助相生，己土积蓄而强固，所以您的命格总体来说还是比较平稳的。\n",
      "\n",
      "不过需要注意的是，您的命局中有财官煞，对您的事业与情感都会有所影响。建议您平日里慎重做事，勤奋努力，同时注意心态调整，积极面对生活中的挑战与压力，以求早日摆脱命中不利之局，得到更好的发展和进步。\n",
      "\n",
      "祝您身体健康，事事顺心！\n"
     ]
    }
   ],
   "source": [
    "print(rsp.get(\"choices\")[0][\"message\"][\"content\"])"
   ],
   "metadata": {
    "collapsed": false,
    "pycharm": {
     "name": "#%%\n"
    }
   }
  },
  {
   "cell_type": "code",
   "execution_count": 6,
   "outputs": [
    {
     "name": "stdout",
     "output_type": "stream",
     "text": [
      "道士说：启禀信众，根据你提供的信息，我已经帮你查出你的八字为“乙巳年丙子月癸未日甲申时”。根据命理学的原理，通过八字的五行属性及其相互关系，可以看出你的性格特点、事业发展、婚姻情况等方面。但是，正统道教信仰强调的是“修身齐家治国平天下”，而非算命批卦。因此，我建议你要注重修身养性，勤学苦练，善于做人处世，积极进取，拼搏奋斗，只有这样才能真正实现人生目标，充实自己的生活。祝你生日快乐！\n"
     ]
    }
   ],
   "source": [
    "q = \"如果你是个道士，当我的生日是2001年1月24日，我的八字是什么并帮我算命。请用道士的语气回答\"\n",
    "rsp = openai.ChatCompletion.create(\n",
    "  model=\"gpt-3.5-turbo\",\n",
    "  messages=[\n",
    "        {\"role\": \"system\", \"content\": \"一个信众\"},\n",
    "        {\"role\": \"user\", \"content\": q}\n",
    "    ]\n",
    ")\n",
    "print(rsp.get(\"choices\")[0][\"message\"][\"content\"])"
   ],
   "metadata": {
    "collapsed": false,
    "pycharm": {
     "name": "#%%\n"
    }
   }
  },
  {
   "cell_type": "code",
   "execution_count": 7,
   "outputs": [
    {
     "name": "stderr",
     "output_type": "stream",
     "text": [
      "Using embedded DuckDB without persistence: data will be transient\n",
      "Chroma collection langchain contains fewer than 4 elements.\n",
      "Chroma collection langchain contains fewer than 3 elements.\n"
     ]
    },
    {
     "data": {
      "text/plain": "' 你好，根据你的生日，你的生辰八字是辛亥年、辛丑月、壬子日、辛亥时，也就是甲寅、乙卯、壬子、辛亥。根据你的八字，你的五行是木、火、水、金、土，五行均匀，是一个好命。'"
     },
     "execution_count": 7,
     "metadata": {},
     "output_type": "execute_result"
    }
   ],
   "source": [
    "from langchain.document_loaders import TextLoader\n",
    "from langchain.indexes import VectorstoreIndexCreator\n",
    "os.environ[\"OPENAI_API_KEY\"]=get_api_key()\n",
    "# 这里放知识库文件的路径 还可以读pdf等格式\n",
    "loader = TextLoader('dao_doc.txt',encoding='UTF-8')\n",
    "index = VectorstoreIndexCreator().from_loaders([loader])\n",
    "query=\"如果你是个道士，当我的生日是2001年1月24日，我的八字是什么并帮我算命。请用道士的语气回答\"\n",
    "index.query(query)"
   ],
   "metadata": {
    "collapsed": false,
    "pycharm": {
     "name": "#%%\n"
    }
   }
  },
  {
   "cell_type": "code",
   "execution_count": 8,
   "outputs": [
    {
     "name": "stderr",
     "output_type": "stream",
     "text": [
      "Chroma collection langchain contains fewer than 4 elements.\n",
      "Chroma collection langchain contains fewer than 3 elements.\n"
     ]
    },
    {
     "data": {
      "text/plain": "' 你好，根据你的生日，你的生辰八字是辛亥年、辛丑月、壬子日、辛亥时，也就是甲寅、乙卯、壬子、辛亥。根据你的八字，你的五行是木、火、水、金、土，五行均匀，是一个好命。'"
     },
     "execution_count": 8,
     "metadata": {},
     "output_type": "execute_result"
    }
   ],
   "source": [
    "query=\"如果你是个道士，当我的生日是2001年1月24日，我的八字是什么并帮我算命。请用道士的语气回答\"\n",
    "index.query(query)"
   ],
   "metadata": {
    "collapsed": false,
    "pycharm": {
     "name": "#%%\n"
    }
   }
  },
  {
   "cell_type": "code",
   "execution_count": null,
   "outputs": [],
   "source": [],
   "metadata": {
    "collapsed": false,
    "pycharm": {
     "name": "#%%\n"
    }
   }
  }
 ],
 "metadata": {
  "kernelspec": {
   "display_name": "Python 3",
   "language": "python",
   "name": "python3"
  },
  "language_info": {
   "codemirror_mode": {
    "name": "ipython",
    "version": 2
   },
   "file_extension": ".py",
   "mimetype": "text/x-python",
   "name": "python",
   "nbconvert_exporter": "python",
   "pygments_lexer": "ipython2",
   "version": "2.7.6"
  }
 },
 "nbformat": 4,
 "nbformat_minor": 0
}